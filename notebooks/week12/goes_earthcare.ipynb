{
 "cells": [
  {
   "cell_type": "markdown",
   "id": "0c78c3ad",
   "metadata": {},
   "source": [
    "(week12:goes_earthcare)=\n",
    "# goes-earthcare overlay\n",
    "\n",
    "## Introduction\n",
    "\n",
    "This notebook \n",
    "\n",
    "- reads in the netcdf file container the Earthcare case you saved in {ref}`week12:goes_earthcare`\n",
    "- finds the closest GOES 16 or GOES 18 image and extracts the cloud top height and the channel 14 (11 micron) brightness temperature\n",
    "- crops the GOES image to the region of the Earthcare radar groundtrack\n",
    "- plots the groundtrack on top of the GOES heights\n",
    "\n",
    "This sets up the second problem in {ref}`week12:assign8`\n",
    "\n",
    "## Installation\n",
    "\n",
    "- fetch and rebase to pick up the week12 folder with this ipynb file\n",
    "- `pip install -r requirements.txt`  to install the newest version of the `a301_extras` library\n",
    "\n",
    "## open the earthcare radar file"
   ]
  },
  {
   "cell_type": "code",
   "execution_count": null,
   "id": "111ee0a3-32d9-4464-ab47-db0c43f09dbb",
   "metadata": {},
   "outputs": [],
   "source": [
    "from pathlib import Path\n",
    "import xarray as xr\n",
    "import numpy as np\n",
    "import pyproj\n",
    "from matplotlib import pyplot as plt\n",
    "import datetime\n",
    "import pytz\n",
    "import pandas as pd\n",
    "from pyproj import CRS, Transformer\n",
    "import affine\n",
    "from a301_extras.sat_lib import make_new_rioxarray\n",
    "import cartopy.crs as ccrs\n",
    "import cartopy.feature as cfeature"
   ]
  },
  {
   "cell_type": "code",
   "execution_count": null,
   "id": "beec72f2-a697-44e5-8aa2-f584543b429d",
   "metadata": {},
   "outputs": [],
   "source": [
    "data_dir = Path().home() / 'repos/a301/satdata/earthcare'\n",
    "radar_filepath = list(data_dir.glob(\"**/*.nc\"))[0]\n",
    "radar_ds = xr.open_dataset(radar_filepath)\n",
    "radar_ds"
   ]
  },
  {
   "cell_type": "markdown",
   "id": "90b015bf-5f93-4bbd-aae8-aceb20f73efd",
   "metadata": {},
   "source": [
    "### get the time and bounding box corners"
   ]
  },
  {
   "cell_type": "code",
   "execution_count": null,
   "id": "8d6dae98-2575-4e69-bede-30dc9a6279e7",
   "metadata": {},
   "outputs": [],
   "source": [
    "midpoint = int(len(radar_ds['time'])/2.)\n",
    "midtime = radar_ds['time'][midpoint].data\n",
    "\n",
    "#datetime.datetime(midtime)\n",
    "timestamp = pd.to_datetime(midtime)\n",
    "timestamp"
   ]
  },
  {
   "cell_type": "code",
   "execution_count": null,
   "id": "95dc7cb7-faa2-4c8f-a53c-ea97c71ecb33",
   "metadata": {},
   "outputs": [],
   "source": [
    "lats = radar_ds['latitude']\n",
    "lons = radar_ds['longitude']\n",
    "ymin, ymax = np.min(lats.data),np.max(lats.data)\n",
    "xmin, xmax = np.min(lons.data),np.max(lons.data)\n",
    "print(f\"{(xmin,ymin,xmax,ymax)=}\")"
   ]
  },
  {
   "cell_type": "markdown",
   "id": "991d13dd-d2c7-413e-b092-c4bd1c732ea7",
   "metadata": {},
   "source": [
    "### overwrite bounding box\n",
    "\n",
    "We want a wider bounding box, since radar groundtrack is almost due north-south.\n",
    "GOES west probably has a better view, so use GOES 18"
   ]
  },
  {
   "cell_type": "code",
   "execution_count": null,
   "id": "2d76815b-0aff-4f56-8522-7acedb6c382a",
   "metadata": {},
   "outputs": [],
   "source": [
    "xmin = -145\n",
    "xmax = -85.\n",
    "ymax = 70"
   ]
  },
  {
   "cell_type": "markdown",
   "id": "1e8fc56d-75f8-4e70-9b5e-2a8996fb637b",
   "metadata": {},
   "source": [
    "## Find the nearest GOES image"
   ]
  },
  {
   "cell_type": "markdown",
   "id": "aa8d36ee-38ef-457a-9d34-059257854253",
   "metadata": {},
   "source": [
    "### Function get_goes"
   ]
  },
  {
   "cell_type": "code",
   "execution_count": null,
   "id": "2a547c8d-a117-455e-8aba-6caaa9335c61",
   "metadata": {},
   "outputs": [],
   "source": [
    "from goes2go import goes_nearesttime\n",
    "save_dir = Path.home() / \"repos/a301/satdata/earthcare\"\n",
    "def get_goes(timestamp, satellite=\"goes16\", product=\"ABI-L2-MCMIP\",domain=\"C\",\n",
    "             download=True, save_dir=None):\n",
    "    g = goes_nearesttime(\n",
    "        timestamp, satellite=satellite,product=product, domain=domain, \n",
    "          return_as=\"xarray\", save_dir = save_dir, download = download, overwrite = False\n",
    "    )\n",
    "    the_path = g.path[0]\n",
    "    return the_path"
   ]
  },
  {
   "cell_type": "markdown",
   "id": "01d94c12-8c95-408a-8f34-de7fa1b13415",
   "metadata": {},
   "source": [
    "## Get the cloudtop height\n",
    "\n",
    "This variable is in the `ABI-L2-ACHAC` product, at 10 km resolution.  It is available every 60 minutes. The\n",
    "full description is [here](https://www.star.nesdis.noaa.gov/goesr/docs/ATBD/Cloud_Height.pdf)"
   ]
  },
  {
   "cell_type": "code",
   "execution_count": null,
   "id": "c2da5889-a75b-4d96-b5af-f3a2aefdf51c",
   "metadata": {},
   "outputs": [],
   "source": [
    "download_dict = dict(satellite=\"goes18\",product = \"ABI-L2-ACHAC\",save_dir=save_dir)"
   ]
  },
  {
   "cell_type": "code",
   "execution_count": null,
   "id": "a22aad56-bb00-47e0-aa83-1198c7616291",
   "metadata": {},
   "outputs": [],
   "source": [
    "writeit = False\n",
    "if writeit:\n",
    "    the_path = get_goes(timestamp,**download_dict)\n",
    "else:\n",
    "    the_path = ('noaa-goes18/ABI-L2-ACHAC/2024/348/22/OR_ABI-L2-ACHAC-M6_G18_s20243482251177'\n",
    "                '_e20243482253550_c20243482256172.nc'\n",
    "               )\n",
    "full_path = save_dir / the_path"
   ]
  },
  {
   "cell_type": "code",
   "execution_count": null,
   "id": "fb939492-26c0-4bbc-ab17-dcb9a89b657a",
   "metadata": {},
   "outputs": [],
   "source": [
    "the_path"
   ]
  },
  {
   "cell_type": "code",
   "execution_count": null,
   "id": "693e5400-6508-4969-b235-573a2f58c105",
   "metadata": {},
   "outputs": [],
   "source": [
    "goes_ct = xr.open_dataset(full_path,mode = 'r',mask_and_scale = True)\n",
    "type(goes_ct)"
   ]
  },
  {
   "cell_type": "markdown",
   "id": "23646fef-dba4-4324-b120-7043d4937155",
   "metadata": {},
   "source": [
    "## calculate the projection coordinates\n",
    "\n",
    "The x and y coordinates for the Dataset `goes_ct` are in radians.  The function `parse_cf` (where `CF` stands\n",
    "for `climate and forecast`) extracts a dataset variable as a DataArray and converts those x and y values to meters in the geostationary CRS by multiplying by the height of the satellite. It also sets the `grid_mapping` attribute\n",
    "to `goes_imager_projection` which allows goes2go to produce the geostationary CRS using `cloud_ct.metpy.pyproj_crs` or `cloud_ct.metpy.cartopy_crs`. The CF conventions\n",
    "are documented [here](https://cfconventions.org/Data/cf-conventions/cf-conventions-1.7/cf-conventions.html#_geostationary_projection) )."
   ]
  },
  {
   "cell_type": "code",
   "execution_count": null,
   "id": "46683b86-b7d3-4c12-8210-77c9fa3fb645",
   "metadata": {},
   "outputs": [],
   "source": [
    "cloud_top = goes_ct.metpy.parse_cf('HT')\n",
    "type(cloud_top)"
   ]
  },
  {
   "cell_type": "code",
   "execution_count": null,
   "id": "96c68a07",
   "metadata": {},
   "outputs": [],
   "source": [
    "cloud_top.plot.imshow()"
   ]
  },
  {
   "cell_type": "markdown",
   "id": "b0b2a5d8",
   "metadata": {},
   "source": [
    "## Get the 11 micron thermal band\n",
    "\n",
    "This is [channel 14](https://www.noaa.gov/jetstream/goes_east) in the\n",
    "moisture and cloud product.  The brightness temperatures will have 2 km resolution,\n",
    "but no atmospheric correction"
   ]
  },
  {
   "cell_type": "code",
   "execution_count": null,
   "id": "7fdbf47e",
   "metadata": {},
   "outputs": [],
   "source": [
    "download_dict = dict(satellite=\"goes18\",\n",
    "                     product = \"ABI-L2-MCMIPC\",save_dir=save_dir)"
   ]
  },
  {
   "cell_type": "code",
   "execution_count": null,
   "id": "114d1081",
   "metadata": {},
   "outputs": [],
   "source": [
    "writeit = False\n",
    "if writeit:\n",
    "    the_path = get_goes(timestamp,**download_dict)\n",
    "else:\n",
    "    the_path = ('noaa-goes18/ABI-L2-MCMIPC/2024/348/22/OR_ABI-L2-MCMIPC-M6_G18_s20243482251177'\n",
    "                '_e20243482253562_c20243482254081.nc'\n",
    "               )\n",
    "full_path = save_dir / the_path\n",
    "the_path"
   ]
  },
  {
   "cell_type": "code",
   "execution_count": null,
   "id": "9a4b579a",
   "metadata": {},
   "outputs": [],
   "source": [
    "goes_mc = xr.open_dataset(full_path,mode = 'r',mask_and_scale = True)\n",
    "chan_14 = goes_mc.metpy.parse_cf('CMI_C14')"
   ]
  },
  {
   "cell_type": "markdown",
   "id": "a957d288-763d-4815-82f9-10b888d541ca",
   "metadata": {},
   "source": [
    "## Calculate the affine transforms"
   ]
  },
  {
   "cell_type": "markdown",
   "id": "de9f8482-a360-4059-81d2-e1d801c8d70e",
   "metadata": {},
   "source": [
    "### Function get_affine"
   ]
  },
  {
   "cell_type": "code",
   "execution_count": null,
   "id": "ccd5da19-f0be-4b11-8bab-c1233c0be4ac",
   "metadata": {},
   "outputs": [],
   "source": [
    "def get_affine(goes_da):\n",
    "    resolutionx = np.mean(np.diff(goes_da.x))\n",
    "    resolutiony = np.mean(np.diff(goes_da.y))\n",
    "    ul_x = goes_da.x[0].data\n",
    "    ul_y = goes_da.y[0].data\n",
    "    goes_transform = affine.Affine(resolutionx, 0.0, ul_x, 0.0, resolutiony, ul_y)\n",
    "    return goes_transform\n",
    "    "
   ]
  },
  {
   "cell_type": "code",
   "execution_count": null,
   "id": "7554cc17-cf0a-4feb-ad44-27b54a122ce0",
   "metadata": {},
   "outputs": [],
   "source": [
    "cloud_top_affine = get_affine(cloud_top)\n",
    "chan_14_affine = get_affine(chan_14)\n",
    "chan_14_affine, cloud_top_affine"
   ]
  },
  {
   "cell_type": "markdown",
   "id": "cf1ededc-d525-4060-8bc0-dc75abd7dad0",
   "metadata": {},
   "source": [
    "## convert  cloud_top  to a rioxarray"
   ]
  },
  {
   "cell_type": "markdown",
   "id": "0b0c03d4-59b2-4d30-b1d7-c658d3a8a30a",
   "metadata": {},
   "source": [
    "Use make_new_rioxarray introduced in {ref}`week8:goes_landsat_rio`\n",
    "\n",
    "```python\n",
    "def make_new_rioxarray(\n",
    "    rawdata: np.ndarray,\n",
    "    coords: dict,\n",
    "    dims: tuple,\n",
    "    crs: pyproj.CRS,\n",
    "    transform: affine.Affine,\n",
    "    attrs: dict | None = None,\n",
    "    missing: float | None = None,\n",
    "    name: str | None = \"name_here\") -> xr.DataArray:\n",
    "    \"\"\"\n",
    "    create a new rioxarray from an ndarray plus components\n",
    "\n",
    "    Parameters\n",
    "    ----------\n",
    "\n",
    "    rawdata: numpy array\n",
    "    crs: pyproj crs for scene\n",
    "    coords: xarray coordinate dict\n",
    "    dims: x and y dimension names from coords\n",
    "    transform: scene affine transform\n",
    "    attrs: optional attribute dictionary\n",
    "    missing: optional missing value\n",
    "    name: optional variable name, defaults to \"name_here\"\n",
    "\n",
    "    Returns\n",
    "    -------\n",
    "\n",
    "    rio_da: a new rioxarray\n",
    "    \"\"\"\n",
    "```"
   ]
  },
  {
   "cell_type": "markdown",
   "id": "0ea98c43-f118-41af-9e1b-620f436e9743",
   "metadata": {},
   "source": [
    "### Set cloud top height attributes"
   ]
  },
  {
   "cell_type": "code",
   "execution_count": null,
   "id": "5d8e5d24-5c81-4bf9-b654-2d9319c6a8ab",
   "metadata": {},
   "outputs": [],
   "source": [
    "attribute_names=['long_name','standard_name','units','grid_mapping']\n",
    "attributes ={name:item for name,item in cloud_top.attrs.items()\n",
    "             if name in attribute_names}\n",
    "attributes['history'] = f\"written by goes_earthcare.ipynb on {datetime.datetime.now()}\"\n",
    "attributes['start'] = goes_ct.attrs['time_coverage_start']\n",
    "attributes['end'] = goes_ct.attrs['time_coverage_end']\n",
    "attributes['dataset'] = goes_ct.attrs['dataset_name']\n",
    "attributes['title'] = 'cloud layer height'\n",
    "attributes"
   ]
  },
  {
   "cell_type": "code",
   "execution_count": null,
   "id": "20e75bba-12ce-422e-b991-4bf21f5c6017",
   "metadata": {},
   "outputs": [],
   "source": [
    "the_dims = ('y','x')\n",
    "goes_crs = cloud_top.metpy.pyproj_crs\n",
    "coords_cloud_top = dict(x=cloud_top.x,y=cloud_top.y)\n",
    "cloud_top_da = make_new_rioxarray(cloud_top,\n",
    "                                  coords_cloud_top,\n",
    "                                  the_dims,\n",
    "                                  goes_crs,\n",
    "                                  cloud_top_affine,\n",
    "                                  attrs = attributes,\n",
    "                                  missing=np.float32(np.nan),\n",
    "                                  name = 'ht')\n",
    "                                                                   "
   ]
  },
  {
   "cell_type": "code",
   "execution_count": null,
   "id": "3c4eab7b",
   "metadata": {},
   "outputs": [],
   "source": [
    "attribute_names=['long_name','standard_name','units','grid_mapping']\n",
    "attributes ={name:item for name,item in chan_14.attrs.items()\n",
    "             if name in attribute_names}\n",
    "attributes['history'] = f\"written by goes_earthcare.ipynb on {datetime.datetime.now()}\"\n",
    "attributes['start'] = goes_mc.attrs['time_coverage_start']\n",
    "attributes['end'] = goes_mc.attrs['time_coverage_end']\n",
    "attributes['dataset'] = goes_mc.attrs['dataset_name']\n",
    "attributes['title'] = 'chan_14'\n",
    "attributes"
   ]
  },
  {
   "cell_type": "markdown",
   "id": "fb259222",
   "metadata": {},
   "source": [
    "## convert chan_14 to a rioxarray"
   ]
  },
  {
   "cell_type": "markdown",
   "id": "5e7001fe",
   "metadata": {},
   "source": [
    "### set chan_14 attributes"
   ]
  },
  {
   "cell_type": "code",
   "execution_count": null,
   "id": "e9838144",
   "metadata": {},
   "outputs": [],
   "source": [
    "the_dims = ('y','x')\n",
    "goes_crs = cloud_top.metpy.pyproj_crs\n",
    "coords_chan_14 = dict(x=chan_14.x,y=chan_14.y)\n",
    "chan_14_da = make_new_rioxarray(chan_14,\n",
    "                                  coords_chan_14,\n",
    "                                  the_dims,\n",
    "                                  goes_crs,\n",
    "                                  chan_14_affine,\n",
    "                                  attrs = attributes,\n",
    "                                  missing=np.float32(np.nan),\n",
    "                                  name = 'chan_14')\n",
    "                                  "
   ]
  },
  {
   "cell_type": "code",
   "execution_count": null,
   "id": "4dc34162",
   "metadata": {},
   "outputs": [],
   "source": [
    "chan_14_da.plot.imshow()"
   ]
  },
  {
   "cell_type": "markdown",
   "id": "5ec084a3-b500-4cbf-8998-76e9be44999c",
   "metadata": {},
   "source": [
    "## crop the images\n",
    "\n",
    "We want to crop the images to the radar track.  To do that, we first need to get\n",
    "the bounding box in geostationary coordinates, so we can use the `rio.clip_box` function.\n",
    "We did this in week 8 in {ref}`week8:goes_clip_bounds`"
   ]
  },
  {
   "cell_type": "code",
   "execution_count": null,
   "id": "34768552-f374-476f-92ed-3b6b974bd9cd",
   "metadata": {},
   "outputs": [],
   "source": [
    "xmin,ymin,xmax,ymax"
   ]
  },
  {
   "cell_type": "markdown",
   "id": "5920d4a1-02c8-4697-af83-7daf30d78dae",
   "metadata": {},
   "source": [
    "### Transform the bounds from lat/lon to geostationary crs"
   ]
  },
  {
   "cell_type": "code",
   "execution_count": null,
   "id": "f4aa5a6d-ad65-4e3f-9a25-5cbeb6219bc5",
   "metadata": {},
   "outputs": [],
   "source": [
    "#\n",
    "# transform bounds from lat,lon to goes crs\n",
    "#\n",
    "latlon_crs = pyproj.CRS.from_epsg(4326)\n",
    "transform = Transformer.from_crs(latlon_crs, goes_crs,always_xy=True)\n",
    "xmin_goes,ymin_goes = transform.transform(xmin,ymin)\n",
    "xmax_goes,ymax_goes = transform.transform(xmax,ymax)\n",
    "print(f\"{(xmax_goes - xmin_goes)=} m\")\n",
    "print(f\"{(ymax_goes - ymin_goes)=} m\")\n",
    "bounds_goes = xmin_goes,ymin_goes,xmax_goes,ymax_goes"
   ]
  },
  {
   "cell_type": "markdown",
   "id": "e56c1411-9352-4f62-9735-992bc178d56e",
   "metadata": {},
   "source": [
    "### Crop using clip_box"
   ]
  },
  {
   "cell_type": "code",
   "execution_count": null,
   "id": "18520013-f69e-4c5d-906c-c39f8a958f12",
   "metadata": {},
   "outputs": [],
   "source": [
    "#\n",
    "# now crop to these bounds using clip_box\n",
    "#\n",
    "clipped_cloud_top=cloud_top_da.rio.clip_box(*bounds_goes)\n",
    "clipped_chan_14 = chan_14_da.rio.clip_box(*bounds_goes)"
   ]
  },
  {
   "cell_type": "code",
   "execution_count": null,
   "id": "8d3aa295-b4fb-468c-b00f-eba1d444a8c9",
   "metadata": {},
   "outputs": [],
   "source": [
    "clipped_cloud_top.plot.imshow()"
   ]
  },
  {
   "cell_type": "code",
   "execution_count": null,
   "id": "9acb0c6c-bbb2-4c1e-8bac-875d15b8998e",
   "metadata": {},
   "outputs": [],
   "source": [
    "clipped_chan_14.plot.imshow()"
   ]
  },
  {
   "cell_type": "markdown",
   "id": "f544f493-7fb5-4e4e-9dea-93976bfa9c0e",
   "metadata": {},
   "source": [
    "## Make cartopy plots with radar ground track\n",
    "\n",
    "Borrow code from {ref}`week8:cartopy_goes`"
   ]
  },
  {
   "cell_type": "code",
   "execution_count": null,
   "id": "9004cabb-3759-4334-91df-9af5b85cb76d",
   "metadata": {},
   "outputs": [],
   "source": [
    "extent = (xmin_goes,xmax_goes,ymin_goes,ymax_goes)\n",
    "cartopy_crs = cloud_top.metpy.cartopy_crs\n",
    "fig,ax = plt.subplots(1,1,figsize=(10,8), subplot_kw={\"projection\":cartopy_crs})\n",
    "clipped_chan_14.plot.imshow(\n",
    "    ax = ax,\n",
    "    origin=\"upper\",\n",
    "    extent= extent,\n",
    "    transform=cartopy_crs,\n",
    "    interpolation=\"nearest\",\n",
    "    vmin=220,\n",
    "    vmax=285\n",
    ");\n",
    "ax.coastlines(resolution=\"50m\", color=\"black\", linewidth=2)\n",
    "ax.add_feature(ccrs.cartopy.feature.STATES,edgecolor=\"red\")"
   ]
  },
  {
   "cell_type": "code",
   "execution_count": null,
   "id": "0ed358e6-f68f-4b21-b20a-b4a094c1a15f",
   "metadata": {},
   "outputs": [],
   "source": [
    "fig,ax = plt.subplots(1,1,figsize=(10,8), subplot_kw={\"projection\":cartopy_crs})\n",
    "clipped_cloud_top.plot.imshow(\n",
    "    ax = ax,\n",
    "    origin=\"upper\",\n",
    "    extent= extent,\n",
    "    transform=cartopy_crs,\n",
    "    interpolation=\"nearest\"\n",
    ");\n",
    "ax.coastlines(resolution=\"50m\", color=\"black\", linewidth=2)\n",
    "ax.add_feature(ccrs.cartopy.feature.STATES,edgecolor=\"red\");"
   ]
  },
  {
   "cell_type": "markdown",
   "id": "8dc93ab0-402e-4dd0-b492-1d5c11db455d",
   "metadata": {},
   "source": [
    "## Add the groundtrack"
   ]
  },
  {
   "cell_type": "code",
   "execution_count": null,
   "id": "2d2f2b99",
   "metadata": {},
   "outputs": [],
   "source": [
    "goes_x, goes_y =  transform.transform(lons, lats)\n",
    "hit = lats > 0"
   ]
  },
  {
   "cell_type": "code",
   "execution_count": null,
   "id": "fa4eb7f1-c311-4860-a870-72b5041bfd3e",
   "metadata": {},
   "outputs": [],
   "source": [
    "ax.plot(goes_x[hit],goes_y[hit],'w-')\n",
    "display(fig)"
   ]
  },
  {
   "cell_type": "markdown",
   "id": "5d97165b-c28b-4df2-a08b-67b1564a07af",
   "metadata": {},
   "source": [
    "## write the file out to tiff\n",
    "\n",
    "Add the cartopy crs as an attribute so that we can make a map with the image.  There's a cartopy bug that prevents us from using the DataArray.rio.crs pyproj version, but we'll need that one to translate lat/lon into goex x,y in Assignment 8"
   ]
  },
  {
   "cell_type": "code",
   "execution_count": null,
   "id": "0af4d5fd-a06a-42b8-b717-9d123fd9898f",
   "metadata": {},
   "outputs": [],
   "source": [
    "cartopy_crs_string = cartopy_crs.to_wkt()\n",
    "cartopy_crs_string"
   ]
  },
  {
   "cell_type": "code",
   "execution_count": null,
   "id": "df9bf9f8-dfa5-4e5c-bd53-c6240900668f",
   "metadata": {},
   "outputs": [],
   "source": [
    "clipped_cloud_top = clipped_cloud_top.assign_attrs(cartopy_crs = cartopy_crs_string)"
   ]
  },
  {
   "cell_type": "code",
   "execution_count": null,
   "id": "df914881-f2f4-476b-b4e2-907aae0041e5",
   "metadata": {},
   "outputs": [],
   "source": [
    "clipped_out = data_dir / \"clipped_goes.tif\"\n",
    "if clipped_out.exists():\n",
    "    clipped_out.unlink()\n",
    "clipped_cloud_top.rio.to_raster(clipped_out)"
   ]
  },
  {
   "cell_type": "code",
   "execution_count": null,
   "id": "09960718-728a-4dd0-9b4a-c7d8f67e34f8",
   "metadata": {},
   "outputs": [],
   "source": []
  }
 ],
 "metadata": {
  "jupytext": {
   "formats": "ipynb,md:myst"
  },
  "kernelspec": {
   "display_name": "Python 3 (ipykernel)",
   "language": "python",
   "name": "python3"
  },
  "language_info": {
   "codemirror_mode": {
    "name": "ipython",
    "version": 3
   },
   "file_extension": ".py",
   "mimetype": "text/x-python",
   "name": "python",
   "nbconvert_exporter": "python",
   "pygments_lexer": "ipython3",
   "version": "3.13.1"
  }
 },
 "nbformat": 4,
 "nbformat_minor": 5
}
